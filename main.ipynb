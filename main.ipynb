{
 "cells": [
  {
   "cell_type": "markdown",
   "metadata": {},
   "source": [
    "# Classical Music Kaggle Competition\n",
    "\n",
    "Author: Zach Xing"
   ]
  },
  {
   "cell_type": "code",
   "execution_count": 1,
   "metadata": {},
   "outputs": [],
   "source": [
    "import pandas as pd\n",
    "import numpy as np\n"
   ]
  },
  {
   "cell_type": "markdown",
   "metadata": {},
   "source": [
    "### Description\n",
    "We have received several data files as described below to use in our model. Our training dataset in train.csv contains account IDs of patrons along with a target label (0 or 1) indicating whether they purchased a subscription for the 2014-15 concert season. Our objective is to predict whether the patrons listed in the test.csv file will purchase subscriptions or not. Be sure that your output file matches exactly with the format in the sample_submissions.csv file, including the same column headings. You should submit your \"soft predictions\" (your probabilistic prediction that they will purchase a subscription), NOT discrete 0/1 predictions, since our scoring metric for this competition is AUROC.\n",
    "\n"
   ]
  },
  {
   "cell_type": "markdown",
   "metadata": {},
   "source": [
    "### Data\n",
    "\n",
    "train.csv - the training set containing target labels indicating whether the patrons have purchased a 2014-15 subscription or not\n",
    "\n",
    "test.csv - the test set of accounts for which we are to make a prediction\n",
    "\n",
    "sample_submission.csv - a sample submission file in the correct format\n",
    "\n",
    "account.csv - location info for each patron and donation history\n",
    "\n",
    "tickets_all.csv - previously purchased tickets by account\n",
    "\n",
    "subscriptions.csv - previously purchased subscriptions by account\n",
    "\n",
    "concerts.csv - previous concerts by season.\n",
    "\n",
    "concerts_2014-15.csv - list of planned concert sets for the 2014-15 season\n",
    "\n",
    "zipcodes.csv - location and demographic information for zipcodes"
   ]
  },
  {
   "cell_type": "code",
   "execution_count": 2,
   "metadata": {},
   "outputs": [],
   "source": [
    "df_train = pd.read_csv('train.csv')\n",
    "df_test = pd.read_csv('test.csv')\n",
    "\n",
    "df_account = pd.read_csv('account.csv', encoding='latin-1')\n",
    "df_tickets = pd.read_csv('tickets_all.csv')\n",
    "df_sub = pd.read_csv('subscriptions.csv')\n",
    "df_concerts = pd.read_csv('concerts.csv')\n",
    "df_concerts1415 = pd.read_csv('concerts_2014-15.csv')\n",
    "df_zipcodes = pd.read_csv('zipcodes.csv')"
   ]
  },
  {
   "cell_type": "code",
   "execution_count": 3,
   "metadata": {},
   "outputs": [],
   "source": [
    "df_sub_counts = df_sub.groupby('account.id').count()"
   ]
  },
  {
   "cell_type": "code",
   "execution_count": 4,
   "metadata": {},
   "outputs": [],
   "source": [
    "df_train_1 = df_train.merge(df_account, on='account.id', how='left')\n"
   ]
  },
  {
   "cell_type": "code",
   "execution_count": 5,
   "metadata": {},
   "outputs": [],
   "source": [
    "df_train_1 = df_train_1.merge(df_sub_counts, on='account.id', how='left')\n"
   ]
  },
  {
   "cell_type": "code",
   "execution_count": 6,
   "metadata": {},
   "outputs": [],
   "source": [
    "df_train_1 = df_train_1[['account.id', 'label', 'amount.donated.2013', 'amount.donated.lifetime', 'season']].fillna(0)"
   ]
  },
  {
   "cell_type": "code",
   "execution_count": 16,
   "metadata": {},
   "outputs": [],
   "source": [
    "# split the train data into train and validation\n",
    "from sklearn.model_selection import train_test_split\n",
    "df_train_1, df_val = train_test_split(df_train_1, test_size=0.2, random_state=18)"
   ]
  },
  {
   "cell_type": "code",
   "execution_count": 17,
   "metadata": {},
   "outputs": [
    {
     "data": {
      "text/plain": [
       "0.8558263971462546"
      ]
     },
     "execution_count": 17,
     "metadata": {},
     "output_type": "execute_result"
    }
   ],
   "source": [
    "# develop a xgboost model, using only the training data. Use auroc as the metric\n",
    "from sklearn import linear_model\n",
    "from sklearn.metrics import roc_auc_score\n",
    "from sklearn.metrics import roc_curve\n",
    "\n",
    "X = df_train_1[['amount.donated.2013', 'amount.donated.lifetime', 'season']]\n",
    "y = df_train_1['label']\n",
    "# create a linear regression model\n",
    "logreg = linear_model.LogisticRegression(C=1e5)\n",
    "# train the model\n",
    "logreg.fit(X, y)\n",
    "# predict on the validation data, use \"soft predictions\" (your probabilistic prediction)\n",
    "y_pred = logreg.predict_proba(df_val[['amount.donated.2013', 'amount.donated.lifetime', 'season']])[:, 1]\n",
    "\n",
    "# calculate the auroc\n",
    "roc_auc_score(df_val['label'], y_pred)\n"
   ]
  },
  {
   "cell_type": "code",
   "execution_count": 23,
   "metadata": {},
   "outputs": [],
   "source": [
    "# reset the column 'ID' to 'account.id'\n",
    "df_test = df_test.rename(columns={'ID': 'account.id'})\n",
    "# predict on the test data\n",
    "df_test_1 = df_test.merge(df_account, on='account.id', how='left')\n",
    "df_test_1 = df_test_1.merge(df_sub_counts, on='account.id', how='left')\n",
    "df_test_1 = df_test_1[['account.id', 'amount.donated.2013', 'amount.donated.lifetime', 'season']].fillna(0)\n",
    "df_test_1['label'] = logreg.predict_proba(df_test_1[['amount.donated.2013', 'amount.donated.lifetime', 'season']])[:, 1]\n",
    "df_test_1 = df_test_1[['account.id', 'label']]\n",
    "df_test_1 = df_test_1.rename(columns={'account.id': 'ID', 'label': 'Predicted'})\n",
    "df_test_1.to_csv('submission_test.csv', index=False)"
   ]
  },
  {
   "cell_type": "code",
   "execution_count": 13,
   "metadata": {},
   "outputs": [
    {
     "data": {
      "text/plain": [
       "array([0.01839754, 0.01385252, 0.02460675, ..., 0.01385252, 0.01850354,\n",
       "       0.01850354])"
      ]
     },
     "execution_count": 13,
     "metadata": {},
     "output_type": "execute_result"
    }
   ],
   "source": [
    "y_pred"
   ]
  },
  {
   "cell_type": "code",
   "execution_count": 10,
   "metadata": {},
   "outputs": [
    {
     "data": {
      "text/html": [
       "<div>\n",
       "<style scoped>\n",
       "    .dataframe tbody tr th:only-of-type {\n",
       "        vertical-align: middle;\n",
       "    }\n",
       "\n",
       "    .dataframe tbody tr th {\n",
       "        vertical-align: top;\n",
       "    }\n",
       "\n",
       "    .dataframe thead th {\n",
       "        text-align: right;\n",
       "    }\n",
       "</style>\n",
       "<table border=\"1\" class=\"dataframe\">\n",
       "  <thead>\n",
       "    <tr style=\"text-align: right;\">\n",
       "      <th></th>\n",
       "      <th>account.id</th>\n",
       "      <th>season</th>\n",
       "      <th>package</th>\n",
       "      <th>no.seats</th>\n",
       "      <th>location</th>\n",
       "      <th>section</th>\n",
       "      <th>price.level</th>\n",
       "      <th>subscription_tier</th>\n",
       "      <th>multiple.subs</th>\n",
       "    </tr>\n",
       "  </thead>\n",
       "  <tbody>\n",
       "    <tr>\n",
       "      <th>0</th>\n",
       "      <td>001i000000LhyR3</td>\n",
       "      <td>2009-2010</td>\n",
       "      <td>Quartet</td>\n",
       "      <td>2</td>\n",
       "      <td>San Francisco</td>\n",
       "      <td>Premium Orchestra</td>\n",
       "      <td>1.0</td>\n",
       "      <td>1.0</td>\n",
       "      <td>no</td>\n",
       "    </tr>\n",
       "    <tr>\n",
       "      <th>1</th>\n",
       "      <td>001i000000NuOeY</td>\n",
       "      <td>2000-2001</td>\n",
       "      <td>Full</td>\n",
       "      <td>2</td>\n",
       "      <td>San Francisco</td>\n",
       "      <td>Orchestra</td>\n",
       "      <td>2.0</td>\n",
       "      <td>2.0</td>\n",
       "      <td>no</td>\n",
       "    </tr>\n",
       "    <tr>\n",
       "      <th>2</th>\n",
       "      <td>001i000000NuNvb</td>\n",
       "      <td>2001-2002</td>\n",
       "      <td>Full</td>\n",
       "      <td>2</td>\n",
       "      <td>Berkeley Saturday</td>\n",
       "      <td>Balcony Front</td>\n",
       "      <td>3.0</td>\n",
       "      <td>2.0</td>\n",
       "      <td>no</td>\n",
       "    </tr>\n",
       "    <tr>\n",
       "      <th>3</th>\n",
       "      <td>001i000000NuOIz</td>\n",
       "      <td>1993-1994</td>\n",
       "      <td>Quartet</td>\n",
       "      <td>1</td>\n",
       "      <td>Contra Costa</td>\n",
       "      <td>Orchestra</td>\n",
       "      <td>2.0</td>\n",
       "      <td>0.5</td>\n",
       "      <td>no</td>\n",
       "    </tr>\n",
       "    <tr>\n",
       "      <th>4</th>\n",
       "      <td>001i000000NuNVE</td>\n",
       "      <td>1998-1999</td>\n",
       "      <td>Full</td>\n",
       "      <td>2</td>\n",
       "      <td>Berkeley Sunday</td>\n",
       "      <td>Balcony Rear</td>\n",
       "      <td>4.0</td>\n",
       "      <td>2.0</td>\n",
       "      <td>no</td>\n",
       "    </tr>\n",
       "    <tr>\n",
       "      <th>...</th>\n",
       "      <td>...</td>\n",
       "      <td>...</td>\n",
       "      <td>...</td>\n",
       "      <td>...</td>\n",
       "      <td>...</td>\n",
       "      <td>...</td>\n",
       "      <td>...</td>\n",
       "      <td>...</td>\n",
       "      <td>...</td>\n",
       "    </tr>\n",
       "    <tr>\n",
       "      <th>28622</th>\n",
       "      <td>001i000000NuOE8</td>\n",
       "      <td>1994-1995</td>\n",
       "      <td>Full</td>\n",
       "      <td>3</td>\n",
       "      <td>Santa Rosa</td>\n",
       "      <td>Balcony</td>\n",
       "      <td>4.0</td>\n",
       "      <td>3.0</td>\n",
       "      <td>no</td>\n",
       "    </tr>\n",
       "    <tr>\n",
       "      <th>28623</th>\n",
       "      <td>001i000000NuPnA</td>\n",
       "      <td>2006-2007</td>\n",
       "      <td>Full</td>\n",
       "      <td>2</td>\n",
       "      <td>Peninsula</td>\n",
       "      <td>Balcony Front</td>\n",
       "      <td>3.0</td>\n",
       "      <td>2.0</td>\n",
       "      <td>no</td>\n",
       "    </tr>\n",
       "    <tr>\n",
       "      <th>28624</th>\n",
       "      <td>001i000000Lhyc6</td>\n",
       "      <td>2009-2010</td>\n",
       "      <td>Full</td>\n",
       "      <td>4</td>\n",
       "      <td>San Francisco</td>\n",
       "      <td>Dress Circle</td>\n",
       "      <td>3.0</td>\n",
       "      <td>4.0</td>\n",
       "      <td>no</td>\n",
       "    </tr>\n",
       "    <tr>\n",
       "      <th>28625</th>\n",
       "      <td>001i000000NuOhT</td>\n",
       "      <td>1995-1996</td>\n",
       "      <td>Full</td>\n",
       "      <td>2</td>\n",
       "      <td>Santa Rosa</td>\n",
       "      <td>Balcony</td>\n",
       "      <td>4.0</td>\n",
       "      <td>2.0</td>\n",
       "      <td>no</td>\n",
       "    </tr>\n",
       "    <tr>\n",
       "      <th>28626</th>\n",
       "      <td>001i000000LhyQD</td>\n",
       "      <td>1997-1998</td>\n",
       "      <td>Full</td>\n",
       "      <td>2</td>\n",
       "      <td>Peninsula</td>\n",
       "      <td>Orchestra</td>\n",
       "      <td>2.0</td>\n",
       "      <td>2.0</td>\n",
       "      <td>no</td>\n",
       "    </tr>\n",
       "  </tbody>\n",
       "</table>\n",
       "<p>28627 rows × 9 columns</p>\n",
       "</div>"
      ],
      "text/plain": [
       "            account.id     season  package  no.seats           location  \\\n",
       "0      001i000000LhyR3  2009-2010  Quartet         2      San Francisco   \n",
       "1      001i000000NuOeY  2000-2001     Full         2      San Francisco   \n",
       "2      001i000000NuNvb  2001-2002     Full         2  Berkeley Saturday   \n",
       "3      001i000000NuOIz  1993-1994  Quartet         1       Contra Costa   \n",
       "4      001i000000NuNVE  1998-1999     Full         2    Berkeley Sunday   \n",
       "...                ...        ...      ...       ...                ...   \n",
       "28622  001i000000NuOE8  1994-1995     Full         3         Santa Rosa   \n",
       "28623  001i000000NuPnA  2006-2007     Full         2          Peninsula   \n",
       "28624  001i000000Lhyc6  2009-2010     Full         4      San Francisco   \n",
       "28625  001i000000NuOhT  1995-1996     Full         2         Santa Rosa   \n",
       "28626  001i000000LhyQD  1997-1998     Full         2          Peninsula   \n",
       "\n",
       "                 section  price.level  subscription_tier multiple.subs  \n",
       "0      Premium Orchestra          1.0                1.0            no  \n",
       "1              Orchestra          2.0                2.0            no  \n",
       "2          Balcony Front          3.0                2.0            no  \n",
       "3              Orchestra          2.0                0.5            no  \n",
       "4           Balcony Rear          4.0                2.0            no  \n",
       "...                  ...          ...                ...           ...  \n",
       "28622            Balcony          4.0                3.0            no  \n",
       "28623      Balcony Front          3.0                2.0            no  \n",
       "28624       Dress Circle          3.0                4.0            no  \n",
       "28625            Balcony          4.0                2.0            no  \n",
       "28626          Orchestra          2.0                2.0            no  \n",
       "\n",
       "[28627 rows x 9 columns]"
      ]
     },
     "execution_count": 10,
     "metadata": {},
     "output_type": "execute_result"
    }
   ],
   "source": [
    "df_sub"
   ]
  },
  {
   "cell_type": "code",
   "execution_count": null,
   "metadata": {},
   "outputs": [],
   "source": []
  }
 ],
 "metadata": {
  "kernelspec": {
   "display_name": "AIPI520",
   "language": "python",
   "name": "python3"
  },
  "language_info": {
   "codemirror_mode": {
    "name": "ipython",
    "version": 3
   },
   "file_extension": ".py",
   "mimetype": "text/x-python",
   "name": "python",
   "nbconvert_exporter": "python",
   "pygments_lexer": "ipython3",
   "version": "3.9.18"
  },
  "orig_nbformat": 4
 },
 "nbformat": 4,
 "nbformat_minor": 2
}
